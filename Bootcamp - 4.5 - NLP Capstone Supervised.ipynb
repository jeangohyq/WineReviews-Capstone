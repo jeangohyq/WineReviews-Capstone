{
 "cells": [
  {
   "cell_type": "code",
   "execution_count": 1,
   "metadata": {},
   "outputs": [],
   "source": [
    "%matplotlib inline\n",
    "import numpy as np\n",
    "import pandas as pd\n",
    "import scipy\n",
    "import sklearn\n",
    "import spacy\n",
    "import matplotlib.pyplot as plt\n",
    "import seaborn as sns\n",
    "import re\n",
    "from __future__ import unicode_literals"
   ]
  },
  {
   "cell_type": "code",
   "execution_count": 2,
   "metadata": {},
   "outputs": [],
   "source": [
    "temp = pd.read_csv('winemag.csv', index_col = False)"
   ]
  },
  {
   "cell_type": "code",
   "execution_count": 3,
   "metadata": {},
   "outputs": [],
   "source": [
    "from sklearn.model_selection import train_test_split\n",
    "X = temp\n",
    "X_train, X_test = train_test_split(X, test_size=0.7, random_state=42)"
   ]
  },
  {
   "cell_type": "code",
   "execution_count": 4,
   "metadata": {},
   "outputs": [],
   "source": [
    "df = X_train"
   ]
  },
  {
   "cell_type": "code",
   "execution_count": 5,
   "metadata": {},
   "outputs": [],
   "source": [
    "remove = ['Unnamed: 0', 'region_1', 'region_2', 'designation','taster_twitter_handle', 'province', \n",
    "          'title', 'winery','variety']\n",
    "df = df.drop(remove,1)"
   ]
  },
  {
   "cell_type": "code",
   "execution_count": 6,
   "metadata": {},
   "outputs": [],
   "source": [
    "df = df.reset_index(drop=True)"
   ]
  },
  {
   "cell_type": "code",
   "execution_count": 7,
   "metadata": {},
   "outputs": [
    {
     "name": "stdout",
     "output_type": "stream",
     "text": [
      "  country                                        description  points  price  \\\n",
      "0   Italy  Pecorino is the white wine of the moment for t...      87   16.0   \n",
      "1      US  Though not one of the producer's single-vineya...      94   38.0   \n",
      "2      US  This is relatively light, with straightforward...      84   12.0   \n",
      "3   Italy  Here's a powerfully fruit-driven Barbera d'Alb...      86    NaN   \n",
      "4   Spain  Aromas of cola, raisin and cassis are ripe and...      91   45.0   \n",
      "\n",
      "         taster_name  \n",
      "0                NaN  \n",
      "1      Matt Kettmann  \n",
      "2         Jim Gordon  \n",
      "3                NaN  \n",
      "4  Michael Schachner  \n"
     ]
    }
   ],
   "source": [
    "print(df.head())"
   ]
  },
  {
   "cell_type": "code",
   "execution_count": 8,
   "metadata": {},
   "outputs": [],
   "source": [
    "#Fill NA of price with average price\n",
    "df['price'].fillna((df['price'].mean()), inplace=True)"
   ]
  },
  {
   "cell_type": "code",
   "execution_count": 9,
   "metadata": {},
   "outputs": [],
   "source": [
    "#Drop all other rows with country as NA.\n",
    "df = df.dropna()"
   ]
  },
  {
   "cell_type": "code",
   "execution_count": 10,
   "metadata": {},
   "outputs": [],
   "source": [
    "def text_cleaner(text):\n",
    "    text = re.sub(r'--', '', text)\n",
    "    text = re.sub('[\\[].*?![\\]]', \"\", text)\n",
    "    text = ' '.join(text.split())\n",
    "    return text"
   ]
  },
  {
   "cell_type": "code",
   "execution_count": 11,
   "metadata": {},
   "outputs": [],
   "source": [
    "df['description'] = df['description'].apply(text_cleaner)"
   ]
  },
  {
   "cell_type": "code",
   "execution_count": 12,
   "metadata": {},
   "outputs": [],
   "source": [
    "remove2 = ['country','price','points']\n",
    "df = df.drop(remove2,1)"
   ]
  },
  {
   "cell_type": "code",
   "execution_count": 13,
   "metadata": {},
   "outputs": [
    {
     "name": "stdout",
     "output_type": "stream",
     "text": [
      "                                         description        taster_name\n",
      "1  Though not one of the producer's single-vineya...      Matt Kettmann\n",
      "2  This is relatively light, with straightforward...         Jim Gordon\n",
      "4  Aromas of cola, raisin and cassis are ripe and...  Michael Schachner\n",
      "5  This soft wine is a blend of 80% Malbec and 20...         Roger Voss\n",
      "6  This Cab opens with soy and molasses and then ...     Virginie Boone\n"
     ]
    }
   ],
   "source": [
    "df.dtypes\n",
    "print(df.head())"
   ]
  },
  {
   "cell_type": "code",
   "execution_count": 14,
   "metadata": {},
   "outputs": [],
   "source": [
    "taster_names = df.taster_name.unique()"
   ]
  },
  {
   "cell_type": "code",
   "execution_count": 15,
   "metadata": {},
   "outputs": [],
   "source": [
    "taster_reviews = []\n",
    "for name in taster_names:\n",
    "    temp_taster_reviews = df[df['taster_name']==name]\n",
    "    temp_taster_reviews = \" \\n\".join(temp_taster_reviews['description'])\n",
    "    taster_reviews.append(temp_taster_reviews)"
   ]
  },
  {
   "cell_type": "code",
   "execution_count": 16,
   "metadata": {},
   "outputs": [],
   "source": [
    "nlp = spacy.load('en')"
   ]
  },
  {
   "cell_type": "code",
   "execution_count": 17,
   "metadata": {},
   "outputs": [],
   "source": [
    "taster_doc = []\n",
    "for i in range(len(taster_names)):\n",
    "    taster_doc.append(nlp(taster_reviews[i]))"
   ]
  },
  {
   "cell_type": "code",
   "execution_count": 18,
   "metadata": {},
   "outputs": [],
   "source": [
    "taster_sents = []\n",
    "for i in range(len(taster_doc)):\n",
    "    taster_sents.append([[sent, taster_names[i]] for sent in taster_doc[i].sents])"
   ]
  },
  {
   "cell_type": "code",
   "execution_count": 19,
   "metadata": {},
   "outputs": [],
   "source": [
    "sentences = []\n",
    "for taster_sent in taster_sents:\n",
    "    sentences = sentences+taster_sent\n",
    "sentences = pd.DataFrame(sentences)"
   ]
  },
  {
   "cell_type": "code",
   "execution_count": 20,
   "metadata": {},
   "outputs": [
    {
     "name": "stdout",
     "output_type": "stream",
     "text": [
      "                                                   0              1\n",
      "0  (Though, not, one, of, the, producer, 's, sing...  Matt Kettmann\n",
      "1  (Tart, mulberry, ,, Kalamata, olive, ,, hibisc...  Matt Kettmann\n",
      "2  (It, delivers, an, excellent, combination, of,...  Matt Kettmann\n",
      "3  (Perhaps, the, palest, Central, Coast, rosé, o...  Matt Kettmann\n",
      "4  (The, strong, acidity, tantalizes, the, mouth,...  Matt Kettmann\n"
     ]
    }
   ],
   "source": [
    "print(sentences.head())"
   ]
  },
  {
   "cell_type": "code",
   "execution_count": 21,
   "metadata": {},
   "outputs": [
    {
     "name": "stdout",
     "output_type": "stream",
     "text": [
      "                                                   0              1  \\\n",
      "0  (Though, not, one, of, the, producer, 's, sing...  Matt Kettmann   \n",
      "1  (Tart, mulberry, ,, Kalamata, olive, ,, hibisc...  Matt Kettmann   \n",
      "2  (It, delivers, an, excellent, combination, of,...  Matt Kettmann   \n",
      "3  (Perhaps, the, palest, Central, Coast, rosé, o...  Matt Kettmann   \n",
      "4  (The, strong, acidity, tantalizes, the, mouth,...  Matt Kettmann   \n",
      "\n",
      "   sentence_length  \n",
      "0               24  \n",
      "1               35  \n",
      "2               13  \n",
      "3               43  \n",
      "4               21  \n"
     ]
    }
   ],
   "source": [
    "sentences['sentence_length']=sentences[0].str.len()\n",
    "print(sentences.head())"
   ]
  },
  {
   "cell_type": "code",
   "execution_count": 22,
   "metadata": {},
   "outputs": [],
   "source": [
    "from collections import Counter\n",
    "# Utility function to create a list of the 300 most common words.\n",
    "def bag_of_words(text):\n",
    "    \n",
    "    # Filter out punctuation and stop words.\n",
    "    allwords = [token.lemma_\n",
    "                for token in text\n",
    "                if not token.is_punct\n",
    "                and not token.is_stop]\n",
    "    \n",
    "    # Return the most common words.\n",
    "    return [item[0] for item in Counter(allwords).most_common(300)]\n",
    "#item 0 is the word, item 1 is the count."
   ]
  },
  {
   "cell_type": "code",
   "execution_count": 23,
   "metadata": {},
   "outputs": [],
   "source": [
    "#Create a df with features for each word in our common word set.\n",
    "#Each value is the count of the times the word appears.\n",
    "#BOW is bag of words\n",
    "\n",
    "def bow_features(sentences, common_words):\n",
    "    \n",
    "    # Scaffold the data frame and initialize counts to zero.\n",
    "    df = pd.DataFrame(columns=common_words)\n",
    "    df['text_sentence'] = sentences[0]\n",
    "    df.loc[:, 'punctuation_length'] = 0\n",
    "    df.loc[:, 'unique_words'] = 0\n",
    "    df['taster_name'] = sentences[1]\n",
    "    df.loc[:, common_words] = 0\n",
    "    \n",
    "    # Process each row, counting the occurrence of words in each sentence.\n",
    "    for i, sentence in enumerate(df['text_sentence']):\n",
    "        \n",
    "        # Convert the sentence to lemmas, then filter out punctuation,\n",
    "        # stop words, and uncommon words.\n",
    "        words = [token.lemma_\n",
    "                 for token in sentence\n",
    "                 if (\n",
    "                     not token.is_punct\n",
    "                     and not token.is_stop\n",
    "                     and token.lemma_ in common_words\n",
    "                 )]\n",
    "\n",
    "        example_words = [token.lemma_\n",
    "                        for token in sentence \n",
    "                        if (not token.is_punct)]         \n",
    "        \n",
    "        # Populate the row with word counts.\n",
    "        for word in words:\n",
    "            df.loc[i, word] += 1\n",
    "        \n",
    "        puncts = [token for token in sentence if (token.is_punct)]\n",
    "        df.loc[i,'punctuation_length'] += len(puncts)\n",
    "  \n",
    "        #Populate row with unique_words\n",
    "        unique_words = [token for token in example_words]\n",
    "        df.loc[i, 'unique_words'] += len(unique_words)\n",
    "        \n",
    "\n",
    "        # This counter is just to make sure the kernel didn't hang.\n",
    "        if i % 1000 == 0:\n",
    "            print(\"Processing row {}\".format(i))\n",
    "    return df"
   ]
  },
  {
   "cell_type": "code",
   "execution_count": 24,
   "metadata": {},
   "outputs": [],
   "source": [
    "taster_words = []\n",
    "for doc in taster_doc:\n",
    "    taster_words.append(bag_of_words(doc))"
   ]
  },
  {
   "cell_type": "code",
   "execution_count": 25,
   "metadata": {},
   "outputs": [],
   "source": [
    "common_words = []\n",
    "for taster_word in taster_words:\n",
    "    common_words = common_words+taster_word\n",
    "common_words = set(common_words)"
   ]
  },
  {
   "cell_type": "code",
   "execution_count": 26,
   "metadata": {},
   "outputs": [
    {
     "name": "stdout",
     "output_type": "stream",
     "text": [
      "Processing row 0\n",
      "Processing row 1000\n",
      "Processing row 2000\n",
      "Processing row 3000\n",
      "Processing row 4000\n",
      "Processing row 5000\n",
      "Processing row 6000\n",
      "Processing row 7000\n",
      "Processing row 8000\n",
      "Processing row 9000\n",
      "Processing row 10000\n",
      "Processing row 11000\n",
      "Processing row 12000\n",
      "Processing row 13000\n",
      "Processing row 14000\n",
      "Processing row 15000\n",
      "Processing row 16000\n",
      "Processing row 17000\n",
      "Processing row 18000\n",
      "Processing row 19000\n",
      "Processing row 20000\n",
      "Processing row 21000\n",
      "Processing row 22000\n",
      "Processing row 23000\n",
      "Processing row 24000\n",
      "Processing row 25000\n",
      "Processing row 26000\n",
      "Processing row 27000\n",
      "Processing row 28000\n",
      "Processing row 29000\n",
      "Processing row 30000\n",
      "Processing row 31000\n",
      "Processing row 32000\n",
      "Processing row 33000\n",
      "Processing row 34000\n",
      "Processing row 35000\n",
      "Processing row 36000\n",
      "Processing row 37000\n",
      "Processing row 38000\n",
      "Processing row 39000\n",
      "Processing row 40000\n",
      "Processing row 41000\n",
      "Processing row 42000\n",
      "Processing row 43000\n",
      "Processing row 44000\n",
      "Processing row 45000\n",
      "Processing row 46000\n",
      "Processing row 47000\n",
      "Processing row 48000\n",
      "Processing row 49000\n",
      "Processing row 50000\n",
      "Processing row 51000\n",
      "Processing row 52000\n",
      "Processing row 53000\n",
      "Processing row 54000\n",
      "Processing row 55000\n",
      "Processing row 56000\n",
      "Processing row 57000\n",
      "Processing row 58000\n",
      "Processing row 59000\n",
      "Processing row 60000\n",
      "Processing row 61000\n",
      "Processing row 62000\n",
      "Processing row 63000\n",
      "Processing row 64000\n",
      "Processing row 65000\n",
      "Processing row 66000\n",
      "Processing row 67000\n",
      "Processing row 68000\n",
      "Processing row 69000\n",
      "Processing row 70000\n",
      "Processing row 71000\n",
      "Processing row 72000\n",
      "Processing row 73000\n",
      "Processing row 74000\n",
      "Processing row 75000\n",
      "Processing row 76000\n",
      "Processing row 77000\n",
      "Processing row 78000\n",
      "Processing row 79000\n",
      "Processing row 80000\n",
      "Processing row 81000\n",
      "Processing row 82000\n",
      "Processing row 83000\n",
      "Processing row 84000\n",
      "Processing row 85000\n",
      "Processing row 86000\n"
     ]
    },
    {
     "data": {
      "text/html": [
       "<div>\n",
       "<style scoped>\n",
       "    .dataframe tbody tr th:only-of-type {\n",
       "        vertical-align: middle;\n",
       "    }\n",
       "\n",
       "    .dataframe tbody tr th {\n",
       "        vertical-align: top;\n",
       "    }\n",
       "\n",
       "    .dataframe thead th {\n",
       "        text-align: right;\n",
       "    }\n",
       "</style>\n",
       "<table border=\"1\" class=\"dataframe\">\n",
       "  <thead>\n",
       "    <tr style=\"text-align: right;\">\n",
       "      <th></th>\n",
       "      <th>freesia</th>\n",
       "      <th>grainy</th>\n",
       "      <th>butterscotch</th>\n",
       "      <th>toasty</th>\n",
       "      <th>distinctive</th>\n",
       "      <th>lychee</th>\n",
       "      <th>menthol</th>\n",
       "      <th>paso</th>\n",
       "      <th>noir</th>\n",
       "      <th>spring</th>\n",
       "      <th>...</th>\n",
       "      <th>touriga</th>\n",
       "      <th>lasting</th>\n",
       "      <th>zestiness</th>\n",
       "      <th>day</th>\n",
       "      <th>tone</th>\n",
       "      <th>pinot</th>\n",
       "      <th>text_sentence</th>\n",
       "      <th>punctuation_length</th>\n",
       "      <th>unique_words</th>\n",
       "      <th>taster_name</th>\n",
       "    </tr>\n",
       "  </thead>\n",
       "  <tbody>\n",
       "    <tr>\n",
       "      <th>0</th>\n",
       "      <td>0</td>\n",
       "      <td>0</td>\n",
       "      <td>0</td>\n",
       "      <td>0</td>\n",
       "      <td>0</td>\n",
       "      <td>0</td>\n",
       "      <td>0</td>\n",
       "      <td>0</td>\n",
       "      <td>0</td>\n",
       "      <td>0</td>\n",
       "      <td>...</td>\n",
       "      <td>0</td>\n",
       "      <td>0</td>\n",
       "      <td>0</td>\n",
       "      <td>0</td>\n",
       "      <td>0</td>\n",
       "      <td>0</td>\n",
       "      <td>(Though, not, one, of, the, producer, 's, sing...</td>\n",
       "      <td>3</td>\n",
       "      <td>21</td>\n",
       "      <td>Matt Kettmann</td>\n",
       "    </tr>\n",
       "    <tr>\n",
       "      <th>1</th>\n",
       "      <td>0</td>\n",
       "      <td>0</td>\n",
       "      <td>0</td>\n",
       "      <td>0</td>\n",
       "      <td>0</td>\n",
       "      <td>0</td>\n",
       "      <td>0</td>\n",
       "      <td>0</td>\n",
       "      <td>0</td>\n",
       "      <td>0</td>\n",
       "      <td>...</td>\n",
       "      <td>0</td>\n",
       "      <td>0</td>\n",
       "      <td>0</td>\n",
       "      <td>0</td>\n",
       "      <td>0</td>\n",
       "      <td>0</td>\n",
       "      <td>(Tart, mulberry, ,, Kalamata, olive, ,, hibisc...</td>\n",
       "      <td>8</td>\n",
       "      <td>27</td>\n",
       "      <td>Matt Kettmann</td>\n",
       "    </tr>\n",
       "    <tr>\n",
       "      <th>2</th>\n",
       "      <td>0</td>\n",
       "      <td>0</td>\n",
       "      <td>0</td>\n",
       "      <td>0</td>\n",
       "      <td>0</td>\n",
       "      <td>0</td>\n",
       "      <td>0</td>\n",
       "      <td>0</td>\n",
       "      <td>0</td>\n",
       "      <td>0</td>\n",
       "      <td>...</td>\n",
       "      <td>0</td>\n",
       "      <td>0</td>\n",
       "      <td>0</td>\n",
       "      <td>0</td>\n",
       "      <td>0</td>\n",
       "      <td>0</td>\n",
       "      <td>(It, delivers, an, excellent, combination, of,...</td>\n",
       "      <td>2</td>\n",
       "      <td>11</td>\n",
       "      <td>Matt Kettmann</td>\n",
       "    </tr>\n",
       "    <tr>\n",
       "      <th>3</th>\n",
       "      <td>0</td>\n",
       "      <td>0</td>\n",
       "      <td>0</td>\n",
       "      <td>0</td>\n",
       "      <td>0</td>\n",
       "      <td>0</td>\n",
       "      <td>0</td>\n",
       "      <td>0</td>\n",
       "      <td>1</td>\n",
       "      <td>0</td>\n",
       "      <td>...</td>\n",
       "      <td>0</td>\n",
       "      <td>0</td>\n",
       "      <td>0</td>\n",
       "      <td>1</td>\n",
       "      <td>0</td>\n",
       "      <td>1</td>\n",
       "      <td>(Perhaps, the, palest, Central, Coast, rosé, o...</td>\n",
       "      <td>4</td>\n",
       "      <td>39</td>\n",
       "      <td>Matt Kettmann</td>\n",
       "    </tr>\n",
       "    <tr>\n",
       "      <th>4</th>\n",
       "      <td>0</td>\n",
       "      <td>0</td>\n",
       "      <td>0</td>\n",
       "      <td>0</td>\n",
       "      <td>0</td>\n",
       "      <td>0</td>\n",
       "      <td>0</td>\n",
       "      <td>0</td>\n",
       "      <td>0</td>\n",
       "      <td>0</td>\n",
       "      <td>...</td>\n",
       "      <td>0</td>\n",
       "      <td>0</td>\n",
       "      <td>0</td>\n",
       "      <td>0</td>\n",
       "      <td>0</td>\n",
       "      <td>0</td>\n",
       "      <td>(The, strong, acidity, tantalizes, the, mouth,...</td>\n",
       "      <td>2</td>\n",
       "      <td>19</td>\n",
       "      <td>Matt Kettmann</td>\n",
       "    </tr>\n",
       "  </tbody>\n",
       "</table>\n",
       "<p>5 rows × 1361 columns</p>\n",
       "</div>"
      ],
      "text/plain": [
       "   freesia  grainy  butterscotch  toasty  distinctive  lychee  menthol  paso  \\\n",
       "0        0       0             0       0            0       0        0     0   \n",
       "1        0       0             0       0            0       0        0     0   \n",
       "2        0       0             0       0            0       0        0     0   \n",
       "3        0       0             0       0            0       0        0     0   \n",
       "4        0       0             0       0            0       0        0     0   \n",
       "\n",
       "   noir  spring      ...        touriga  lasting  zestiness  day  tone  pinot  \\\n",
       "0     0       0      ...              0        0          0    0     0      0   \n",
       "1     0       0      ...              0        0          0    0     0      0   \n",
       "2     0       0      ...              0        0          0    0     0      0   \n",
       "3     1       0      ...              0        0          0    1     0      1   \n",
       "4     0       0      ...              0        0          0    0     0      0   \n",
       "\n",
       "                                       text_sentence  punctuation_length  \\\n",
       "0  (Though, not, one, of, the, producer, 's, sing...                   3   \n",
       "1  (Tart, mulberry, ,, Kalamata, olive, ,, hibisc...                   8   \n",
       "2  (It, delivers, an, excellent, combination, of,...                   2   \n",
       "3  (Perhaps, the, palest, Central, Coast, rosé, o...                   4   \n",
       "4  (The, strong, acidity, tantalizes, the, mouth,...                   2   \n",
       "\n",
       "   unique_words    taster_name  \n",
       "0            21  Matt Kettmann  \n",
       "1            27  Matt Kettmann  \n",
       "2            11  Matt Kettmann  \n",
       "3            39  Matt Kettmann  \n",
       "4            19  Matt Kettmann  \n",
       "\n",
       "[5 rows x 1361 columns]"
      ]
     },
     "execution_count": 26,
     "metadata": {},
     "output_type": "execute_result"
    }
   ],
   "source": [
    "word_counts = bow_features(sentences,common_words)\n",
    "word_counts.head()"
   ]
  },
  {
   "cell_type": "code",
   "execution_count": 28,
   "metadata": {},
   "outputs": [],
   "source": [
    "#Concat the number of words in that sentence into the df.\n",
    "word_counts = pd.concat([word_counts, sentences['sentence_length']], axis=1)"
   ]
  },
  {
   "cell_type": "code",
   "execution_count": 29,
   "metadata": {},
   "outputs": [],
   "source": [
    "#Include column with number of words in the previous sentence.\n",
    "#Create new column. Set to NULL\n",
    "#word_counts['previous_length'] = word_counts['sentence_length']\n",
    "word_counts['previous_length'] = None\n",
    "\n",
    "for i in range(1,word_counts.shape[0]):\n",
    "    word_counts.loc[i,'previous_length'] = word_counts.loc[i-1,'sentence_length']"
   ]
  },
  {
   "cell_type": "code",
   "execution_count": 30,
   "metadata": {},
   "outputs": [],
   "source": [
    "word_counts['diff'] = (word_counts.taster_name.ne(word_counts.taster_name.shift())).astype(int)"
   ]
  },
  {
   "cell_type": "code",
   "execution_count": 31,
   "metadata": {},
   "outputs": [],
   "source": [
    "word_counts.loc[word_counts['diff'] == 1, 'previous_length'] = None"
   ]
  },
  {
   "cell_type": "code",
   "execution_count": 32,
   "metadata": {},
   "outputs": [],
   "source": [
    "word_counts['next_length'] = None\n",
    "for i in range(0,word_counts.shape[-1]):\n",
    "    word_counts.loc[i,'next_length'] = word_counts.loc[i+1,'sentence_length']"
   ]
  },
  {
   "cell_type": "code",
   "execution_count": 33,
   "metadata": {},
   "outputs": [],
   "source": [
    "word_counts['diff2'] = (word_counts.taster_name.ne(word_counts.taster_name.shift(-1))).astype(int)\n",
    "word_counts.loc[word_counts['diff2'] == 1, 'next_length'] = None"
   ]
  },
  {
   "cell_type": "code",
   "execution_count": 34,
   "metadata": {},
   "outputs": [
    {
     "name": "stdout",
     "output_type": "stream",
     "text": [
      "   freesia  grainy  butterscotch  toasty  distinctive  lychee  menthol  paso  \\\n",
      "0        0       0             0       0            0       0        0     0   \n",
      "1        0       0             0       0            0       0        0     0   \n",
      "2        0       0             0       0            0       0        0     0   \n",
      "3        0       0             0       0            0       0        0     0   \n",
      "4        0       0             0       0            0       0        0     0   \n",
      "\n",
      "   noir  spring  ...    pinot  \\\n",
      "0     0       0  ...        0   \n",
      "1     0       0  ...        0   \n",
      "2     0       0  ...        0   \n",
      "3     1       0  ...        1   \n",
      "4     0       0  ...        0   \n",
      "\n",
      "                                       text_sentence  punctuation_length  \\\n",
      "0  (Though, not, one, of, the, producer, 's, sing...                   3   \n",
      "1  (Tart, mulberry, ,, Kalamata, olive, ,, hibisc...                   8   \n",
      "2  (It, delivers, an, excellent, combination, of,...                   2   \n",
      "3  (Perhaps, the, palest, Central, Coast, rosé, o...                   4   \n",
      "4  (The, strong, acidity, tantalizes, the, mouth,...                   2   \n",
      "\n",
      "   unique_words    taster_name  sentence_length  previous_length  diff  \\\n",
      "0            21  Matt Kettmann               24             None     1   \n",
      "1            27  Matt Kettmann               35               24     0   \n",
      "2            11  Matt Kettmann               13               35     0   \n",
      "3            39  Matt Kettmann               43               13     0   \n",
      "4            19  Matt Kettmann               21               43     0   \n",
      "\n",
      "   next_length  diff2  \n",
      "0           35      0  \n",
      "1           13      0  \n",
      "2           43      0  \n",
      "3           21      0  \n",
      "4           24      0  \n",
      "\n",
      "[5 rows x 1366 columns]\n"
     ]
    }
   ],
   "source": [
    "print(word_counts.head())"
   ]
  },
  {
   "cell_type": "code",
   "execution_count": 35,
   "metadata": {},
   "outputs": [],
   "source": [
    "word_counts['previous_length'] = word_counts['previous_length'].fillna(word_counts['previous_length'].mean())\n",
    "word_counts['next_length'] = word_counts['next_length'].fillna(word_counts['next_length'].mean())"
   ]
  },
  {
   "cell_type": "code",
   "execution_count": null,
   "metadata": {},
   "outputs": [],
   "source": []
  },
  {
   "cell_type": "code",
   "execution_count": 36,
   "metadata": {},
   "outputs": [
    {
     "name": "stdout",
     "output_type": "stream",
     "text": [
      "Training set score 0.972130141191\n",
      "\n",
      "Test set score 0.632429446158\n"
     ]
    },
    {
     "name": "stderr",
     "output_type": "stream",
     "text": [
      "/Library/Frameworks/Python.framework/Versions/3.6/lib/python3.6/site-packages/sklearn/model_selection/_split.py:605: Warning: The least populated class in y has only 3 members, which is too few. The minimum number of members in any class cannot be less than n_splits=5.\n",
      "  % (min_groups, self.n_splits)), Warning)\n"
     ]
    },
    {
     "name": "stdout",
     "output_type": "stream",
     "text": [
      "[ 0.64124245  0.63742522  0.6276259   0.61963155  0.6261876 ]\n",
      "\n",
      "Mean cross validation score is: 0.630422542815\n"
     ]
    }
   ],
   "source": [
    "#Trying random forest\n",
    "from sklearn import ensemble\n",
    "from sklearn.model_selection import train_test_split\n",
    "\n",
    "rfc = ensemble.RandomForestClassifier()\n",
    "y = word_counts['taster_name']\n",
    "X = np.array(word_counts.drop(['text_sentence','taster_name','diff','diff2'],1))\n",
    "\n",
    "X_train, X_test, y_train, y_test = train_test_split(X, y, test_size=0.25, random_state=42)\n",
    "train = rfc.fit(X_train, y_train)\n",
    "\n",
    "print('Training set score', rfc.score(X_train, y_train))\n",
    "print('\\nTest set score', rfc.score(X_test, y_test))\n",
    "\n",
    "from sklearn.model_selection import cross_val_score\n",
    "rf_scores = cross_val_score(rfc, X, y, cv=5)\n",
    "print(rf_scores)\n",
    "print ('\\nMean cross validation score is: ' + str(np.mean(rf_scores)))"
   ]
  },
  {
   "cell_type": "code",
   "execution_count": 37,
   "metadata": {},
   "outputs": [
    {
     "name": "stdout",
     "output_type": "stream",
     "text": [
      "Training set score 0.797498465316\n",
      "\n",
      "Test set score 0.7685189448\n"
     ]
    },
    {
     "name": "stderr",
     "output_type": "stream",
     "text": [
      "/Library/Frameworks/Python.framework/Versions/3.6/lib/python3.6/site-packages/sklearn/model_selection/_split.py:605: Warning: The least populated class in y has only 3 members, which is too few. The minimum number of members in any class cannot be less than n_splits=5.\n",
      "  % (min_groups, self.n_splits)), Warning)\n"
     ]
    },
    {
     "name": "stdout",
     "output_type": "stream",
     "text": [
      "[ 0.76422203  0.76719972  0.76500719  0.76776051  0.76714458]\n",
      "\n",
      "Mean cross validation score is: 0.766266807958\n"
     ]
    }
   ],
   "source": [
    "from sklearn.linear_model import LogisticRegression\n",
    "lr = LogisticRegression()\n",
    "train = lr.fit(X_train, y_train)\n",
    "\n",
    "print('Training set score', lr.score(X_train, y_train))\n",
    "print('\\nTest set score', lr.score(X_test, y_test))\n",
    "\n",
    "from sklearn.model_selection import cross_val_score\n",
    "lr_scores = cross_val_score(lr, X, y, cv=5)\n",
    "print(lr_scores)\n",
    "print ('\\nMean cross validation score is: ' + str(np.mean(lr_scores)))"
   ]
  },
  {
   "cell_type": "code",
   "execution_count": 38,
   "metadata": {},
   "outputs": [
    {
     "name": "stdout",
     "output_type": "stream",
     "text": [
      "Training set score 0.729619398404\n",
      "\n",
      "Test set score 0.723079047926\n"
     ]
    },
    {
     "name": "stderr",
     "output_type": "stream",
     "text": [
      "/Library/Frameworks/Python.framework/Versions/3.6/lib/python3.6/site-packages/sklearn/model_selection/_split.py:605: Warning: The least populated class in y has only 3 members, which is too few. The minimum number of members in any class cannot be less than n_splits=5.\n",
      "  % (min_groups, self.n_splits)), Warning)\n"
     ]
    },
    {
     "name": "stdout",
     "output_type": "stream",
     "text": [
      "[ 0.72269198  0.72359641  0.72155396  0.71876799  0.71854667]\n",
      "\n",
      "Mean cross validation score is: 0.721031400585\n"
     ]
    }
   ],
   "source": [
    "#Naive Bayes Classifier\n",
    "from sklearn.metrics import accuracy_score\n",
    "from sklearn.model_selection import train_test_split\n",
    "\n",
    "from sklearn.preprocessing import StandardScaler\n",
    "from sklearn.naive_bayes import BernoulliNB\n",
    "sc = StandardScaler()\n",
    "X_train = sc.fit_transform(X_train)\n",
    "X_test = sc.transform(X_test)\n",
    "    \n",
    "#Testing Naive Bayes Classifier\n",
    "BNB = BernoulliNB()\n",
    "BNB.fit(X_train, y_train)\n",
    "\n",
    "print('Training set score', BNB.score(X_train, y_train))\n",
    "print('\\nTest set score', BNB.score(X_test, y_test))\n",
    "\n",
    "BNB_scores = cross_val_score(BNB, X, y, cv=5)\n",
    "print(BNB_scores)\n",
    "print ('\\nMean cross validation score is: ' + str(np.mean(BNB_scores)))"
   ]
  },
  {
   "cell_type": "code",
   "execution_count": null,
   "metadata": {},
   "outputs": [],
   "source": []
  },
  {
   "cell_type": "code",
   "execution_count": 47,
   "metadata": {},
   "outputs": [
    {
     "name": "stdout",
     "output_type": "stream",
     "text": [
      "Training set score 0.962845303867\n",
      "Test set score 0.750563970351\n"
     ]
    }
   ],
   "source": [
    "#Testing the model on MLP Classifier. \n",
    "\n",
    "from sklearn.neural_network import MLPClassifier #Multi Layer Perceptron\n",
    "\n",
    "#Establish and fit the model, with mutiple 500 perceptron layer.\n",
    "mlp = MLPClassifier(hidden_layer_sizes=(800, 800), max_iter=100, batch_size=500, learning_rate_init=0.0001)\n",
    "mlp.fit(X_train, y_train)\n",
    "\n",
    "print('Training set score', mlp.score(X_train, y_train))\n",
    "print('Test set score', mlp.score(X_test, y_test))"
   ]
  },
  {
   "cell_type": "code",
   "execution_count": 48,
   "metadata": {},
   "outputs": [
    {
     "name": "stderr",
     "output_type": "stream",
     "text": [
      "/Library/Frameworks/Python.framework/Versions/3.6/lib/python3.6/site-packages/sklearn/model_selection/_split.py:605: Warning: The least populated class in y has only 3 members, which is too few. The minimum number of members in any class cannot be less than n_splits=5.\n",
      "  % (min_groups, self.n_splits)), Warning)\n",
      "/Library/Frameworks/Python.framework/Versions/3.6/lib/python3.6/site-packages/sklearn/neural_network/multilayer_perceptron.py:564: ConvergenceWarning: Stochastic Optimizer: Maximum iterations (100) reached and the optimization hasn't converged yet.\n",
      "  % self.max_iter, ConvergenceWarning)\n",
      "/Library/Frameworks/Python.framework/Versions/3.6/lib/python3.6/site-packages/sklearn/neural_network/multilayer_perceptron.py:564: ConvergenceWarning: Stochastic Optimizer: Maximum iterations (100) reached and the optimization hasn't converged yet.\n",
      "  % self.max_iter, ConvergenceWarning)\n",
      "/Library/Frameworks/Python.framework/Versions/3.6/lib/python3.6/site-packages/sklearn/neural_network/multilayer_perceptron.py:564: ConvergenceWarning: Stochastic Optimizer: Maximum iterations (100) reached and the optimization hasn't converged yet.\n",
      "  % self.max_iter, ConvergenceWarning)\n",
      "/Library/Frameworks/Python.framework/Versions/3.6/lib/python3.6/site-packages/sklearn/neural_network/multilayer_perceptron.py:564: ConvergenceWarning: Stochastic Optimizer: Maximum iterations (100) reached and the optimization hasn't converged yet.\n",
      "  % self.max_iter, ConvergenceWarning)\n"
     ]
    },
    {
     "data": {
      "text/plain": [
       "array([ 0.76853609,  0.76984584,  0.77835971,  0.7716753 ,  0.76806587])"
      ]
     },
     "execution_count": 48,
     "metadata": {},
     "output_type": "execute_result"
    }
   ],
   "source": [
    "MLP_score = cross_val_score(mlp, X, y, cv=5)"
   ]
  },
  {
   "cell_type": "markdown",
   "metadata": {},
   "source": [
    "#max_iter=100, batch_size=500\n",
    "#single layer (500, ) - Training set score 0.928959484346, Test set score 0.745637861977\n",
    "#double layer (500, 500) - Training set score 0.958425414365, Test set score 0.754891579577\n",
    "#double layer (500,500) with LR 0.01 - Training set score 0.907642725599, Test set score 0.740527600018\n",
    "#double layer (500, 500) with LR 0.0001 - Training set score 0.964840392879, Test set score 0.744578978868\n",
    "#double layer (300, 300) with LR 0.0001 -Training set score 0.964825046041, Test set score 0.737489065881\n",
    "#double layer (800, 800) with LR 0.0001 - Training set score 0.962845303867, Test set score 0.750563970351"
   ]
  },
  {
   "cell_type": "code",
   "execution_count": null,
   "metadata": {},
   "outputs": [],
   "source": [
    "#Higher alpha overfits less."
   ]
  },
  {
   "cell_type": "code",
   "execution_count": 53,
   "metadata": {},
   "outputs": [
    {
     "name": "stdout",
     "output_type": "stream",
     "text": [
      "Training set score 0.825352977287\n",
      "Test set score 0.766401178583\n"
     ]
    }
   ],
   "source": [
    "#MLP classifier adjusting for alpha.\n",
    "mlp = MLPClassifier(hidden_layer_sizes=(800, 800), max_iter=100, batch_size=100, \n",
    "                    learning_rate_init=0.001, alpha=0.6)\n",
    "mlp.fit(X_train, y_train)\n",
    "\n",
    "print('Training set score', mlp.score(X_train, y_train))\n",
    "print('Test set score', mlp.score(X_test, y_test))"
   ]
  },
  {
   "cell_type": "code",
   "execution_count": null,
   "metadata": {},
   "outputs": [],
   "source": [
    "#double layer (500, 500), max_iter=100, batch_size=100, learning_rate_init=0.001, alpha=0.6 - Training set score 0.828376304481, Test set score 0.767644215276"
   ]
  },
  {
   "cell_type": "code",
   "execution_count": 54,
   "metadata": {},
   "outputs": [
    {
     "name": "stderr",
     "output_type": "stream",
     "text": [
      "/Library/Frameworks/Python.framework/Versions/3.6/lib/python3.6/site-packages/sklearn/model_selection/_split.py:605: Warning: The least populated class in y has only 3 members, which is too few. The minimum number of members in any class cannot be less than n_splits=5.\n",
      "  % (min_groups, self.n_splits)), Warning)\n"
     ]
    },
    {
     "name": "stdout",
     "output_type": "stream",
     "text": [
      "[ 0.7029048   0.70887023  0.68166906  0.69447323  0.70184833]\n",
      "\n",
      "Mean cross validation score is: 0.697953131197\n"
     ]
    }
   ],
   "source": [
    "MLP_scores = cross_val_score(mlp, X, y, cv=5)\n",
    "print(MLP_scores)\n",
    "print ('\\nMean cross validation score is: ' + str(np.mean(MLP_scores)))"
   ]
  },
  {
   "cell_type": "code",
   "execution_count": null,
   "metadata": {},
   "outputs": [],
   "source": []
  }
 ],
 "metadata": {
  "kernelspec": {
   "display_name": "Python 3",
   "language": "python",
   "name": "python3"
  },
  "language_info": {
   "codemirror_mode": {
    "name": "ipython",
    "version": 3
   },
   "file_extension": ".py",
   "mimetype": "text/x-python",
   "name": "python",
   "nbconvert_exporter": "python",
   "pygments_lexer": "ipython3",
   "version": "3.6.3"
  }
 },
 "nbformat": 4,
 "nbformat_minor": 2
}
