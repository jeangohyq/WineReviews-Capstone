{
 "cells": [
  {
   "cell_type": "code",
   "execution_count": 1,
   "metadata": {},
   "outputs": [],
   "source": [
    "%matplotlib inline\n",
    "import numpy as np\n",
    "import pandas as pd\n",
    "import scipy\n",
    "import sklearn\n",
    "import spacy\n",
    "import matplotlib.pyplot as plt\n",
    "import seaborn as sns\n",
    "import re\n",
    "from __future__ import unicode_literals"
   ]
  },
  {
   "cell_type": "code",
   "execution_count": 2,
   "metadata": {},
   "outputs": [],
   "source": [
    "temp = pd.read_csv('winemag.csv', index_col = False)"
   ]
  },
  {
   "cell_type": "code",
   "execution_count": 3,
   "metadata": {},
   "outputs": [],
   "source": [
    "from sklearn.model_selection import train_test_split\n",
    "X = temp\n",
    "X_train, X_test = train_test_split(X, test_size=0.9, random_state=42)"
   ]
  },
  {
   "cell_type": "code",
   "execution_count": 4,
   "metadata": {},
   "outputs": [],
   "source": [
    "df = X_train"
   ]
  },
  {
   "cell_type": "code",
   "execution_count": 5,
   "metadata": {},
   "outputs": [],
   "source": [
    "remove = ['Unnamed: 0', 'region_1', 'region_2', 'designation','taster_twitter_handle', 'province', \n",
    "          'title', 'winery','variety','country','points','price']\n",
    "df = df.drop(remove,1)"
   ]
  },
  {
   "cell_type": "code",
   "execution_count": 6,
   "metadata": {},
   "outputs": [],
   "source": [
    "df = df.reset_index(drop=True)"
   ]
  },
  {
   "cell_type": "code",
   "execution_count": 7,
   "metadata": {},
   "outputs": [
    {
     "name": "stdout",
     "output_type": "stream",
     "text": [
      "                                         description       taster_name\n",
      "0  This is classic Oregon Pinot Noir at its most ...      Paul Gregutt\n",
      "1  A blend of fruit from Arianses, StoneTree and ...  Sean P. Sullivan\n",
      "2  Very perfumed, this lightly sweet and poised w...        Roger Voss\n",
      "3  Made entirely with Negroamaro, this opens with...     Kerin O’Keefe\n",
      "4  Red berry, aromatic herb, pressed violet and d...     Kerin O’Keefe\n"
     ]
    }
   ],
   "source": [
    "print(df.head())"
   ]
  },
  {
   "cell_type": "code",
   "execution_count": 8,
   "metadata": {},
   "outputs": [],
   "source": [
    "#Drop all other rows with country as NA.\n",
    "df = df.dropna()"
   ]
  },
  {
   "cell_type": "code",
   "execution_count": 9,
   "metadata": {},
   "outputs": [],
   "source": [
    "from sklearn.model_selection import train_test_split\n",
    "y = df['taster_name']\n",
    "y_train, y_test = train_test_split(y, test_size=0.25, random_state=42)"
   ]
  },
  {
   "cell_type": "code",
   "execution_count": 10,
   "metadata": {},
   "outputs": [],
   "source": [
    "df = df.drop(['taster_name'],1)"
   ]
  },
  {
   "cell_type": "code",
   "execution_count": 11,
   "metadata": {},
   "outputs": [],
   "source": [
    "def text_cleaner(text):\n",
    "    text = re.sub(r'--', '', text)\n",
    "    text = re.sub('[\\[].*?![\\]]', \"\", text)\n",
    "    text = ' '.join(text.split())\n",
    "    return text"
   ]
  },
  {
   "cell_type": "code",
   "execution_count": 13,
   "metadata": {},
   "outputs": [],
   "source": [
    "df['description'] = df['description'].apply(text_cleaner)"
   ]
  },
  {
   "cell_type": "code",
   "execution_count": 56,
   "metadata": {},
   "outputs": [],
   "source": [
    "#taster_names = df.taster_name.unique()"
   ]
  },
  {
   "cell_type": "code",
   "execution_count": 12,
   "metadata": {},
   "outputs": [],
   "source": [
    "taster_reviews = []\n",
    "for name in taster_names:\n",
    "    temp_taster_reviews = df[df['taster_name']==name]\n",
    "    temp_taster_reviews = \" \\n\".join(temp_taster_reviews['description'])\n",
    "    taster_reviews.append(temp_taster_reviews)"
   ]
  },
  {
   "cell_type": "code",
   "execution_count": 14,
   "metadata": {},
   "outputs": [],
   "source": [
    "taster_doc = df['description']"
   ]
  },
  {
   "cell_type": "code",
   "execution_count": 9,
   "metadata": {},
   "outputs": [],
   "source": []
  },
  {
   "cell_type": "code",
   "execution_count": 19,
   "metadata": {},
   "outputs": [],
   "source": [
    "#nlp = spacy.load('en')"
   ]
  },
  {
   "cell_type": "code",
   "execution_count": 20,
   "metadata": {},
   "outputs": [],
   "source": [
    "#taster_doc = []\n",
    "#for i in range(len(taster_names)):\n",
    "    #taster_doc.append(nlp(taster_reviews[i]))"
   ]
  },
  {
   "cell_type": "code",
   "execution_count": 15,
   "metadata": {},
   "outputs": [
    {
     "name": "stdout",
     "output_type": "stream",
     "text": [
      "Number of features: 340928\n"
     ]
    }
   ],
   "source": [
    "from sklearn.feature_extraction.text import TfidfVectorizer\n",
    "from sklearn.model_selection import train_test_split\n",
    "X_train, X_test = train_test_split(taster_doc, test_size=0.25, random_state=42)\n",
    "\n",
    "vectorizer = TfidfVectorizer(\n",
    "                            stop_words='english', \n",
    "                            lowercase=True, #convert everything to lower case\n",
    "                            use_idf=True, #use inverse document frequencies in our weighting\n",
    "                            norm=u'l2', #applies a correction factor so short and long paragraphs are treated equally\n",
    "                            smooth_idf=True, #adds 1 to all document frequencies, prevents divide by 0 errors\n",
    "                            ngram_range=(0,3),\n",
    "                            analyzer='word'\n",
    "                           )\n",
    "\n",
    "#applying the vectorizer\n",
    "taster_doc_tfidf = vectorizer.fit_transform(taster_doc)\n",
    "print('Number of features: %d' % taster_doc_tfidf.get_shape()[1])\n",
    "\n",
    "#Split into train and test.\n",
    "X_train_tfidf, X_test_tfidf = train_test_split(taster_doc_tfidf, test_size=0.25, random_state=42)\n",
    "#Reshape the vectorizer\n",
    "X_train_tfidf_csr = X_train_tfidf.tocsr() #Return a copy of this matrix in Compressed Sparse Row format\n",
    "\n",
    "#Number of paragraphs\n",
    "n = X_train_tfidf_csr.shape[0]\n",
    "\n",
    "tfidf_bypara = [{} for _ in range(0,n)]\n",
    "\n",
    "#List of features\n",
    "terms = vectorizer.get_feature_names()\n",
    "#for each paragraph, list the feature words and their tf-idf scores\n",
    "for i, j in zip(*X_train_tfidf_csr.nonzero()):\n",
    "    tfidf_bypara[i][terms[j]] = X_train_tfidf_csr[i, j]"
   ]
  },
  {
   "cell_type": "code",
   "execution_count": 16,
   "metadata": {},
   "outputs": [
    {
     "name": "stdout",
     "output_type": "stream",
     "text": [
      "Percent variance captured by all components: 14.586179002\n"
     ]
    }
   ],
   "source": [
    "from sklearn.decomposition import TruncatedSVD #Singular Value Decomposition\n",
    "from sklearn.pipeline import make_pipeline\n",
    "from sklearn.preprocessing import Normalizer\n",
    "\n",
    "#Reduce the feature space to 500\n",
    "svd = TruncatedSVD(500)\n",
    "lsa = make_pipeline(svd, Normalizer(copy=False)) #LSA is latent semantic analysis\n",
    "\n",
    "#Run SVD on the training data, then project the training data.\n",
    "X_train_lsa = lsa.fit_transform(X_train_tfidf)\n",
    "\n",
    "variance_explained = svd.explained_variance_ratio_\n",
    "total_variance = variance_explained.sum()\n",
    "print('Percent variance captured by all components:', total_variance*100)"
   ]
  },
  {
   "cell_type": "code",
   "execution_count": 17,
   "metadata": {},
   "outputs": [
    {
     "data": {
      "image/png": "[encoded data removed]",
      "text/plain": [
       "<matplotlib.figure.Figure at 0x118650710>"
      ]
     },
     "metadata": {},
     "output_type": "display_data"
    },
    {
     "name": "stdout",
     "output_type": "stream",
     "text": [
      "Comparing k-means train and pred solutions:\n",
      "col_0                  0     1\n",
      "taster_name                   \n",
      "Alexander Peartree    29     2\n",
      "Anna Lee C. Iijima   300     8\n",
      "Anne Krebiehl MW     261     9\n",
      "Carrie Dykes          10     0\n",
      "Fiona Adams            1     0\n",
      "Jeff Jenssen          30     1\n",
      "Jim Gordon           300    40\n",
      "Joe Czerwinski       387    12\n",
      "Kerin O’Keefe        760     8\n",
      "Lauren Buzzeo        147     5\n",
      "Matt Kettmann        464     4\n",
      "Michael Schachner   1174     8\n",
      "Mike DeSimone         41     0\n",
      "Paul Gregutt         650    29\n",
      "Roger Voss           123  1708\n",
      "Sean P. Sullivan     397    18\n",
      "Susan Kostrzewa       78     0\n",
      "Virginie Boone       690    53\n"
     ]
    }
   ],
   "source": [
    "from sklearn.cluster import KMeans\n",
    "from sklearn.preprocessing import normalize\n",
    "from sklearn.model_selection import train_test_split\n",
    "\n",
    "# Calculate predicted values.\n",
    "y_pred = KMeans(n_clusters=2, random_state=42).fit_predict(X_train_lsa)\n",
    "\n",
    "# Plot the solution.\n",
    "plt.scatter(X_train_lsa[:, 0], X_train_lsa[:, 1], c=y_pred)\n",
    "plt.show()\n",
    "\n",
    "print('Comparing k-means train and pred solutions:')\n",
    "print(pd.crosstab(y_train, y_pred))"
   ]
  },
  {
   "cell_type": "code",
   "execution_count": 23,
   "metadata": {},
   "outputs": [
    {
     "name": "stdout",
     "output_type": "stream",
     "text": [
      "Comparing k-means and mini batch k-means solutions:\n",
      "col_0     0     1\n",
      "row_0            \n",
      "0      5818   185\n",
      "1        24  1720\n"
     ]
    }
   ],
   "source": [
    "from sklearn.cluster import KMeans\n",
    "from sklearn.preprocessing import normalize\n",
    "from sklearn.cluster import MiniBatchKMeans\n",
    "\n",
    "# Each batch will be made up of 100 data points.\n",
    "minibatchkmeans = MiniBatchKMeans(\n",
    "    init='random',\n",
    "    n_clusters=2,\n",
    "    batch_size=200)\n",
    "minibatchkmeans.fit(X_train_lsa)\n",
    "\n",
    "# Add the new predicted cluster memberships to the data frame.\n",
    "predict_mini = minibatchkmeans.predict(X_train_lsa)\n",
    "\n",
    "# Check the MiniBatch model against our earlier one.\n",
    "print('Comparing k-means and mini batch k-means solutions:')\n",
    "print(pd.crosstab(predict_mini, y_pred))"
   ]
  },
  {
   "cell_type": "code",
   "execution_count": 26,
   "metadata": {},
   "outputs": [
    {
     "name": "stdout",
     "output_type": "stream",
     "text": [
      "Number of estimated clusters: 1\n"
     ]
    }
   ],
   "source": [
    "from sklearn.cluster import MeanShift, estimate_bandwidth\n",
    "\n",
    "#Here we set the bandwidth. This function automatically derives a bandwidth\n",
    "#number based on an inspection of the distances among points in the data.\n",
    "#We're getting a 5 percentile distance. If quantile is 0.5, thats the median. \n",
    "bandwidth = estimate_bandwidth(X_train_lsa, quantile=0.5, n_samples=100)\n",
    "\n",
    "# Declare and fit the model.\n",
    "ms = MeanShift(bandwidth=bandwidth, bin_seeding=True)\n",
    "ms.fit(X_train_lsa)\n",
    "\n",
    "# Extract cluster assignments for each data point.\n",
    "labels = ms.labels_\n",
    "\n",
    "# Coordinates of the cluster centers.\n",
    "cluster_centers = ms.cluster_centers_\n",
    "\n",
    "# Count our clusters.\n",
    "n_clusters_ = len(np.unique(labels))\n",
    "\n",
    "print(\"Number of estimated clusters: {}\".format(n_clusters_))"
   ]
  },
  {
   "cell_type": "code",
   "execution_count": 27,
   "metadata": {},
   "outputs": [
    {
     "data": {
      "image/png": "[encoded data removed]",
      "text/plain": [
       "<matplotlib.figure.Figure at 0x11048bf60>"
      ]
     },
     "metadata": {},
     "output_type": "display_data"
    },
    {
     "name": "stdout",
     "output_type": "stream",
     "text": [
      "Comparing the assigned categories to the ones in the data:\n",
      "col_0                  0     1\n",
      "taster_name                   \n",
      "Alexander Peartree     2    29\n",
      "Anna Lee C. Iijima    43   265\n",
      "Anne Krebiehl MW      36   234\n",
      "Carrie Dykes           0    10\n",
      "Fiona Adams            0     1\n",
      "Jeff Jenssen          12    19\n",
      "Jim Gordon           135   205\n",
      "Joe Czerwinski        67   332\n",
      "Kerin O’Keefe        171   597\n",
      "Lauren Buzzeo         18   134\n",
      "Matt Kettmann          8   460\n",
      "Michael Schachner     51  1131\n",
      "Mike DeSimone          4    37\n",
      "Paul Gregutt         130   549\n",
      "Roger Voss          1720   111\n",
      "Sean P. Sullivan     125   290\n",
      "Susan Kostrzewa        9    69\n",
      "Virginie Boone       161   582\n"
     ]
    }
   ],
   "source": [
    "from sklearn.cluster import SpectralClustering\n",
    "\n",
    "n_clusters=2\n",
    "\n",
    "# Declare and fit the model.\n",
    "sc = SpectralClustering(n_clusters=n_clusters)\n",
    "sc.fit(X_train_lsa)\n",
    "\n",
    "#Predicted clusters.\n",
    "predict=sc.fit_predict(X_train_lsa)\n",
    "\n",
    "#Graph results.\n",
    "plt.scatter(X_train_lsa[:, 0], X_train_lsa[:, 1], c=predict)\n",
    "plt.show()\n",
    "\n",
    "print('Comparing the assigned categories to the ones in the data:')\n",
    "print(pd.crosstab(y_train,predict))"
   ]
  },
  {
   "cell_type": "code",
   "execution_count": null,
   "metadata": {},
   "outputs": [],
   "source": []
  }
 ],
 "metadata": {
  "kernelspec": {
   "display_name": "Python 3",
   "language": "python",
   "name": "python3"
  },
  "language_info": {
   "codemirror_mode": {
    "name": "ipython",
    "version": 3
   },
   "file_extension": ".py",
   "mimetype": "text/x-python",
   "name": "python",
   "nbconvert_exporter": "python",
   "pygments_lexer": "ipython3",
   "version": "3.6.3"
  }
 },
 "nbformat": 4,
 "nbformat_minor": 2
}
